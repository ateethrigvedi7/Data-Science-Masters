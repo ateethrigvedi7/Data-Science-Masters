{
 "cells": [
  {
   "cell_type": "markdown",
   "id": "ecee97dd-cbf7-45ae-aef4-ae554bbe05d3",
   "metadata": {},
   "source": [
    "Q1. What are the characteristics of the tuples? Is tuple immutable?\n"
   ]
  },
  {
   "cell_type": "markdown",
   "id": "6f522d88-b73d-4330-b033-ecf40e275afc",
   "metadata": {},
   "source": [
    "Q1- Characteristics of tuple: its ordered, allows duplicates and once a value is assigned it can not be changed . Its immutable"
   ]
  },
  {
   "cell_type": "markdown",
   "id": "f1e0c083-387a-4185-9254-613b4ef65f9d",
   "metadata": {},
   "source": [
    "Q2. What are the two tuple methods in python? Give an example of each method. Give a reason why\n",
    "tuples have only two in-built methods as compared to Lists."
   ]
  },
  {
   "cell_type": "markdown",
   "id": "40a7f9b7-6de6-476e-b49e-1c9fa7e7401d",
   "metadata": {},
   "source": [
    "Q2- Tuple contains 2 methods\n",
    "1. index()\n",
    "2. count\n",
    "\n",
    "Tuple has only 2 methods because its immutable and it can not be changed\n",
    "\n",
    "Example for methods\n",
    "\n",
    "\n",
    "\n"
   ]
  },
  {
   "cell_type": "code",
   "execution_count": null,
   "id": "22c27f9c-2b3c-417e-a3b8-ac62a19f46d8",
   "metadata": {},
   "outputs": [
    {
     "data": {
      "text/plain": [
       "3"
      ]
     },
     "execution_count": 15,
     "metadata": {},
     "output_type": "execute_result"
    }
   ],
   "source": [
    "tu=(1,2,3,4,5,5,5,6)\n",
    "tu.index(3) # it gives index and its op is 2 as index starts from 0\n",
    "tu.count(5) # its op is 3 as 5 is repeated 3 times"
   ]
  },
  {
   "cell_type": "markdown",
   "id": "a863aca0-a29f-45ac-9660-25713664fde7",
   "metadata": {},
   "source": [
    "Q3. Which collection datatypes in python do not allow duplicate items? Write a code using a set to remove\n",
    "duplicates from the given list.\n",
    "List = [1, 1, 1, 2, 1, 3, 1, 4, 2, 1, 2, 2, 2, 3, 2, 4, 3, 1, 3, 2, 3, 3, 3, 4, 4, 1, 4, 2, 4, 3, 4, 4]"
   ]
  },
  {
   "cell_type": "markdown",
   "id": "6ff22c1c-cbd0-43f3-b891-dc761663ff6f",
   "metadata": {},
   "source": [
    "Q3-Set data type doesnot allow duplicate\n"
   ]
  },
  {
   "cell_type": "code",
   "execution_count": 1,
   "id": "e628e49f-2e7b-4f4c-a1cc-e3fa1be480a1",
   "metadata": {},
   "outputs": [
    {
     "data": {
      "text/plain": [
       "{1, 2, 3, 4}"
      ]
     },
     "execution_count": 1,
     "metadata": {},
     "output_type": "execute_result"
    }
   ],
   "source": [
    "#example to remove duplicated\n",
    "ls=[1, 1, 1, 2, 1, 3, 1, 4, 2, 1, 2, 2, 2, 3, 2, 4, 3, 1, 3, 2, 3, 3, 3, 4, 4, 1, 4, 2, 4, 3, 4, 4]\n",
    "set(ls)"
   ]
  },
  {
   "cell_type": "markdown",
   "id": "ac3472d2-ab1b-46b2-aea9-8fdabb8b0b15",
   "metadata": {},
   "source": [
    "Q4. Explain the difference between the union() and update() methods for a set. Give an example of\n",
    "each method."
   ]
  },
  {
   "cell_type": "code",
   "execution_count": 23,
   "id": "f08d6b0d-4fa5-43df-8b63-6af8fb4add7a",
   "metadata": {},
   "outputs": [],
   "source": [
    "Update:It will update the existing set,Return type is none\n",
    "Union :It will create a new set and return it. Return type is set"
   ]
  },
  {
   "cell_type": "code",
   "execution_count": 17,
   "id": "81faba68-9d19-4305-adce-501d6571bee5",
   "metadata": {},
   "outputs": [
    {
     "name": "stdout",
     "output_type": "stream",
     "text": [
      "id of s1 before update= 139641943808864\n",
      "id of s1 after update= 139641943808864\n"
     ]
    }
   ],
   "source": [
    "s1={1,2,3,4,5}\n",
    "print(\"id of s1 before update=\",id(s1))\n",
    "s2={4,5,6,7,8}\n",
    "s1.update(s2)\n",
    "print(\"id of s1 after update=\",id(s1))\n"
   ]
  },
  {
   "cell_type": "code",
   "execution_count": 4,
   "id": "03fc6476-0bbf-402c-939b-13652790b1c8",
   "metadata": {},
   "outputs": [
    {
     "data": {
      "text/plain": [
       "139641943808640"
      ]
     },
     "execution_count": 4,
     "metadata": {},
     "output_type": "execute_result"
    }
   ],
   "source": [
    "s1={1,2,3,4,5}\n",
    "print(\"id of s1 before union=\",id(s1))\n",
    "s2={4,5,6,7,8}\n",
    "s1=s1.union(s2)\n",
    "print(\"id of s1 after union=\",id(s1))\n",
    "s1"
   ]
  },
  {
   "cell_type": "markdown",
   "id": "332b53d7-aee6-4f98-a51c-cad5f002f283",
   "metadata": {},
   "source": [
    "Q5. What is a dictionary? Give an example. Also, state whether a dictionary is ordered or unordered."
   ]
  },
  {
   "cell_type": "markdown",
   "id": "ad177aab-1341-4fae-ba31-4acf8846c702",
   "metadata": {},
   "source": [
    "Q5\n",
    "Dictonary is a datatype is python which stores data in the format of key & value pairs. Its denoted by {key:value}. Dictonary is ordered in nature"
   ]
  },
  {
   "cell_type": "code",
   "execution_count": 6,
   "id": "d17ecc1c-5184-445c-9498-2ba7bed17402",
   "metadata": {},
   "outputs": [
    {
     "data": {
      "text/plain": [
       "dict"
      ]
     },
     "execution_count": 6,
     "metadata": {},
     "output_type": "execute_result"
    }
   ],
   "source": [
    "#eg: \n",
    "dcdt={1:2,\"abc\":\"d\"}\n",
    "type(dcdt)"
   ]
  },
  {
   "cell_type": "markdown",
   "id": "e3fa6274-d5e7-4460-bc23-fc577e63a95c",
   "metadata": {},
   "source": [
    "Q6. Can we create a nested dictionary? If so, please give an example by creating a simple one-level\n",
    "nested dictionary."
   ]
  },
  {
   "cell_type": "markdown",
   "id": "3dbefc8e-188c-4923-bbf9-80cb8c49d79e",
   "metadata": {},
   "source": [
    "Q6\n",
    "Yes nested dictonary can be created"
   ]
  },
  {
   "cell_type": "code",
   "execution_count": 1,
   "id": "d1c2f84a-ef9d-4b2e-bb3d-76f76c7c051b",
   "metadata": {},
   "outputs": [
    {
     "data": {
      "text/plain": [
       "{1: {1: 2}, 2: {3: {4}}}"
      ]
     },
     "execution_count": 1,
     "metadata": {},
     "output_type": "execute_result"
    }
   ],
   "source": [
    "dct = {1:{1:2}, 2:{3:{4}}}\n",
    "dct"
   ]
  },
  {
   "cell_type": "markdown",
   "id": "15826ede-3b1a-4d94-b9d5-fdb57be1f374",
   "metadata": {},
   "source": [
    "Q7. Using setdefault() method, create key named topics in the given dictionary and also add the value of\n",
    "the key as this list ['Python', 'Machine Learning’, 'Deep Learning']\n",
    "dict1 = {'language' : 'Python', 'course': 'Data Science Masters'}"
   ]
  },
  {
   "cell_type": "code",
   "execution_count": 1,
   "id": "c575b415-e625-4db1-ae07-0e0d913d6c11",
   "metadata": {},
   "outputs": [
    {
     "data": {
      "text/plain": [
       "{'language': 'Python',\n",
       " 'course': 'Data Science Masters',\n",
       " 'topics': '[\"Python\", \"Machine Learning\", \"Deep Learning\"]'}"
      ]
     },
     "execution_count": 1,
     "metadata": {},
     "output_type": "execute_result"
    }
   ],
   "source": [
    "dict1 = {'language' : 'Python', 'course': 'Data Science Masters'}\n",
    "dict1.setdefault('topics','[\"Python\", \"Machine Learning\", \"Deep Learning\"]')\n",
    "#dict1['topics']= \n",
    "dict1"
   ]
  },
  {
   "cell_type": "markdown",
   "id": "b7a59ba4-d53c-4c65-87b3-11b7923f569c",
   "metadata": {},
   "source": [
    "Q8. What are the three view objects in dictionaries? Use the three in-built methods in python to display\n",
    "these three view objects for the given dictionary.\n",
    "dict1 = {'Sport': 'Cricket' , 'Teams': ['India', 'Australia', 'England', 'South Africa', 'Sri Lanka', 'New Zealand']}"
   ]
  },
  {
   "cell_type": "markdown",
   "id": "bd83402c-9c4a-4314-af68-27471a647297",
   "metadata": {},
   "source": [
    "Q8\n",
    "There are 3 view objects in dict\n",
    "1. Keys\n",
    "2. Vlaues\n",
    "3. items"
   ]
  },
  {
   "cell_type": "code",
   "execution_count": 18,
   "id": "c7adbec8-7d9f-4b9b-95b7-2d85f9914141",
   "metadata": {},
   "outputs": [],
   "source": [
    "dict1 = {'Sport': 'Cricket' , 'Teams': ['India', 'Australia', 'England', 'South Africa', 'Sri Lanka', 'New Zealand']}"
   ]
  },
  {
   "cell_type": "code",
   "execution_count": 25,
   "id": "abe7f26a-71f9-460c-8efb-2534247b134a",
   "metadata": {},
   "outputs": [
    {
     "name": "stdout",
     "output_type": "stream",
     "text": [
      "keys are: dict_keys(['Sport', 'Teams'])\n"
     ]
    }
   ],
   "source": [
    "print(\"keys are:\",dict1.keys())"
   ]
  },
  {
   "cell_type": "code",
   "execution_count": 26,
   "id": "7caa6362-636e-45ff-b64c-86288966f006",
   "metadata": {},
   "outputs": [
    {
     "name": "stdout",
     "output_type": "stream",
     "text": [
      "items are: dict_values(['Cricket', ['India', 'Australia', 'England', 'South Africa', 'Sri Lanka', 'New Zealand']])\n"
     ]
    }
   ],
   "source": [
    "print(\"values are:\",dict1.values())"
   ]
  },
  {
   "cell_type": "code",
   "execution_count": 27,
   "id": "88c8e4a2-993f-47d7-8a54-b22776dc5ef1",
   "metadata": {},
   "outputs": [
    {
     "name": "stdout",
     "output_type": "stream",
     "text": [
      "items are: dict_items([('Sport', 'Cricket'), ('Teams', ['India', 'Australia', 'England', 'South Africa', 'Sri Lanka', 'New Zealand'])])\n"
     ]
    }
   ],
   "source": [
    "print(\"items are:\",dict1.items())"
   ]
  },
  {
   "cell_type": "code",
   "execution_count": null,
   "id": "0e37fec9-4740-4d17-9db0-48afe35db60b",
   "metadata": {},
   "outputs": [],
   "source": []
  }
 ],
 "metadata": {
  "kernelspec": {
   "display_name": "Python 3 (ipykernel)",
   "language": "python",
   "name": "python3"
  },
  "language_info": {
   "codemirror_mode": {
    "name": "ipython",
    "version": 3
   },
   "file_extension": ".py",
   "mimetype": "text/x-python",
   "name": "python",
   "nbconvert_exporter": "python",
   "pygments_lexer": "ipython3",
   "version": "3.10.8"
  }
 },
 "nbformat": 4,
 "nbformat_minor": 5
}
